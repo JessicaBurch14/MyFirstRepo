{
 "cells": [
  {
   "cell_type": "code",
   "execution_count": 1,
   "id": "e329c115-cec3-4afc-8e28-e7d098501463",
   "metadata": {},
   "outputs": [
    {
     "name": "stdout",
     "output_type": "stream",
     "text": [
      "Hello, world!\n"
     ]
    }
   ],
   "source": [
    "print(\"Hello, world!\")"
   ]
  },
  {
   "cell_type": "markdown",
   "id": "61374f40-4d09-4fe1-846d-67a9f2ef34ad",
   "metadata": {},
   "source": [
    "# My First Markdown Heading"
   ]
  },
  {
   "cell_type": "markdown",
   "id": "6e2b7892-2ce0-4439-993c-0e52bcd1a6c9",
   "metadata": {},
   "source": [
    "## My Second Markdown Heading"
   ]
  },
  {
   "cell_type": "markdown",
   "id": "c7ac2624-7128-4d0c-9e33-958cff460aa2",
   "metadata": {},
   "source": [
    "This is some **bold** text"
   ]
  },
  {
   "cell_type": "markdown",
   "id": "e1aea194-d505-436e-89b9-2e63d4779388",
   "metadata": {},
   "source": [
    "1. First item \n",
    "2. Second item \n",
    "3. Third item"
   ]
  },
  {
   "cell_type": "code",
   "execution_count": null,
   "id": "3dbea2a8-5cb4-4f23-9ee4-fac6dce86467",
   "metadata": {},
   "outputs": [],
   "source": [
    "my_var=5"
   ]
  }
 ],
 "metadata": {
  "kernelspec": {
   "display_name": "Python 3 (ipykernel)",
   "language": "python",
   "name": "python3"
  },
  "language_info": {
   "codemirror_mode": {
    "name": "ipython",
    "version": 3
   },
   "file_extension": ".py",
   "mimetype": "text/x-python",
   "name": "python",
   "nbconvert_exporter": "python",
   "pygments_lexer": "ipython3",
   "version": "3.10.9"
  }
 },
 "nbformat": 4,
 "nbformat_minor": 5
}
